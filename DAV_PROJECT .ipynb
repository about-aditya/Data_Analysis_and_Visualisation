{
 "cells": [
  {
   "cell_type": "markdown",
   "metadata": {},
   "source": [
    "# Data Analysis and visualization Project"
   ]
  },
  {
   "cell_type": "markdown",
   "metadata": {},
   "source": [
    "**- GROUP MEMBERS -**"
   ]
  },
  {
   "cell_type": "markdown",
   "metadata": {},
   "source": [
    "**ADITYA (20/49002)**"
   ]
  },
  {
   "cell_type": "markdown",
   "metadata": {},
   "source": [
    "**IMPORTING REQUIRED LIBRARIES**"
   ]
  },
  {
   "cell_type": "code",
   "execution_count": 1,
   "metadata": {
    "colab": {
     "base_uri": "https://localhost:8080/"
    },
    "id": "JlNopixe19m-",
    "outputId": "5611b161-d148-468a-951f-6bcac1a03d43"
   },
   "outputs": [],
   "source": [
    "import numpy as np\n",
    "import pandas as pd\n",
    "import plotly.express as px\n",
    "import matplotlib.pyplot as plt, seaborn as sns\n",
    "%matplotlib inline"
   ]
  },
  {
   "cell_type": "markdown",
   "metadata": {},
   "source": [
    "**IMPORTING DATASET**"
   ]
  },
  {
   "cell_type": "code",
   "execution_count": 2,
   "metadata": {},
   "outputs": [],
   "source": [
    "df = pd.read_csv(\"playstore-analysis.csv\")\n",
    "df = pd.DataFrame(df)\n",
    "df = df.drop(['Type', 'Last Updated', 'Current Ver', 'Android Ver'], axis=1)"
   ]
  },
  {
   "cell_type": "code",
   "execution_count": 3,
   "metadata": {},
   "outputs": [
    {
     "data": {
      "text/html": [
       "<div>\n",
       "<style scoped>\n",
       "    .dataframe tbody tr th:only-of-type {\n",
       "        vertical-align: middle;\n",
       "    }\n",
       "\n",
       "    .dataframe tbody tr th {\n",
       "        vertical-align: top;\n",
       "    }\n",
       "\n",
       "    .dataframe thead th {\n",
       "        text-align: right;\n",
       "    }\n",
       "</style>\n",
       "<table border=\"1\" class=\"dataframe\">\n",
       "  <thead>\n",
       "    <tr style=\"text-align: right;\">\n",
       "      <th></th>\n",
       "      <th>App</th>\n",
       "      <th>Category</th>\n",
       "      <th>Rating</th>\n",
       "      <th>Reviews</th>\n",
       "      <th>Size</th>\n",
       "      <th>Installs</th>\n",
       "      <th>Price</th>\n",
       "      <th>Content Rating</th>\n",
       "      <th>Genres</th>\n",
       "    </tr>\n",
       "  </thead>\n",
       "  <tbody>\n",
       "    <tr>\n",
       "      <th>0</th>\n",
       "      <td>Photo Editor &amp; Candy Camera &amp; Grid &amp; ScrapBook</td>\n",
       "      <td>ART_AND_DESIGN</td>\n",
       "      <td>4.1</td>\n",
       "      <td>159</td>\n",
       "      <td>19000.0</td>\n",
       "      <td>10,000+</td>\n",
       "      <td>0</td>\n",
       "      <td>Everyone</td>\n",
       "      <td>Art &amp; Design</td>\n",
       "    </tr>\n",
       "    <tr>\n",
       "      <th>1</th>\n",
       "      <td>Coloring book moana</td>\n",
       "      <td>ART_AND_DESIGN</td>\n",
       "      <td>3.9</td>\n",
       "      <td>967</td>\n",
       "      <td>14000.0</td>\n",
       "      <td>500,000+</td>\n",
       "      <td>0</td>\n",
       "      <td>Everyone</td>\n",
       "      <td>Art &amp; Design;Pretend Play</td>\n",
       "    </tr>\n",
       "    <tr>\n",
       "      <th>2</th>\n",
       "      <td>U Launcher Lite – FREE Live Cool Themes, Hide ...</td>\n",
       "      <td>ART_AND_DESIGN</td>\n",
       "      <td>4.7</td>\n",
       "      <td>87510</td>\n",
       "      <td>8700.0</td>\n",
       "      <td>5,000,000+</td>\n",
       "      <td>0</td>\n",
       "      <td>Everyone</td>\n",
       "      <td>Art &amp; Design</td>\n",
       "    </tr>\n",
       "    <tr>\n",
       "      <th>3</th>\n",
       "      <td>Sketch - Draw &amp; Paint</td>\n",
       "      <td>ART_AND_DESIGN</td>\n",
       "      <td>4.5</td>\n",
       "      <td>215644</td>\n",
       "      <td>25000.0</td>\n",
       "      <td>50,000,000+</td>\n",
       "      <td>0</td>\n",
       "      <td>Teen</td>\n",
       "      <td>Art &amp; Design</td>\n",
       "    </tr>\n",
       "    <tr>\n",
       "      <th>4</th>\n",
       "      <td>Pixel Draw - Number Art Coloring Book</td>\n",
       "      <td>ART_AND_DESIGN</td>\n",
       "      <td>4.3</td>\n",
       "      <td>967</td>\n",
       "      <td>2800.0</td>\n",
       "      <td>100,000+</td>\n",
       "      <td>0</td>\n",
       "      <td>Everyone</td>\n",
       "      <td>Art &amp; Design;Creativity</td>\n",
       "    </tr>\n",
       "  </tbody>\n",
       "</table>\n",
       "</div>"
      ],
      "text/plain": [
       "                                                 App        Category  Rating  \\\n",
       "0     Photo Editor & Candy Camera & Grid & ScrapBook  ART_AND_DESIGN     4.1   \n",
       "1                                Coloring book moana  ART_AND_DESIGN     3.9   \n",
       "2  U Launcher Lite – FREE Live Cool Themes, Hide ...  ART_AND_DESIGN     4.7   \n",
       "3                              Sketch - Draw & Paint  ART_AND_DESIGN     4.5   \n",
       "4              Pixel Draw - Number Art Coloring Book  ART_AND_DESIGN     4.3   \n",
       "\n",
       "   Reviews     Size     Installs Price Content Rating  \\\n",
       "0      159  19000.0      10,000+     0       Everyone   \n",
       "1      967  14000.0     500,000+     0       Everyone   \n",
       "2    87510   8700.0   5,000,000+     0       Everyone   \n",
       "3   215644  25000.0  50,000,000+     0           Teen   \n",
       "4      967   2800.0     100,000+     0       Everyone   \n",
       "\n",
       "                      Genres  \n",
       "0               Art & Design  \n",
       "1  Art & Design;Pretend Play  \n",
       "2               Art & Design  \n",
       "3               Art & Design  \n",
       "4    Art & Design;Creativity  "
      ]
     },
     "execution_count": 3,
     "metadata": {},
     "output_type": "execute_result"
    }
   ],
   "source": [
    "df.head()"
   ]
  },
  {
   "cell_type": "markdown",
   "metadata": {},
   "source": [
    "**DESCRIBING THE DATASET**"
   ]
  },
  {
   "cell_type": "code",
   "execution_count": 4,
   "metadata": {
    "colab": {
     "base_uri": "https://localhost:8080/"
    },
    "id": "-hb6IAXs2EYV",
    "outputId": "005963c0-1697-4966-dc4f-5e49f2164841"
   },
   "outputs": [
    {
     "name": "stdout",
     "output_type": "stream",
     "text": [
      "            Rating       Reviews           Size\n",
      "count  9366.000000  1.084000e+04   10840.000000\n",
      "mean      4.191757  4.441529e+05   21516.529524\n",
      "std       0.515219  2.927761e+06   20747.494577\n",
      "min       1.000000  0.000000e+00       8.500000\n",
      "25%       4.000000  3.800000e+01    5900.000000\n",
      "50%       4.300000  2.094000e+03   18000.000000\n",
      "75%       4.500000  5.477550e+04   26000.000000\n",
      "max       5.000000  7.815831e+07  100000.000000  \n",
      " \n",
      "(10840, 9) \n",
      "\n",
      "<bound method DataFrame.info of                                                      App             Category  \\\n",
      "0         Photo Editor & Candy Camera & Grid & ScrapBook       ART_AND_DESIGN   \n",
      "1                                    Coloring book moana       ART_AND_DESIGN   \n",
      "2      U Launcher Lite – FREE Live Cool Themes, Hide ...       ART_AND_DESIGN   \n",
      "3                                  Sketch - Draw & Paint       ART_AND_DESIGN   \n",
      "4                  Pixel Draw - Number Art Coloring Book       ART_AND_DESIGN   \n",
      "...                                                  ...                  ...   \n",
      "10835                                   Sya9a Maroc - FR               FAMILY   \n",
      "10836                   Fr. Mike Schmitz Audio Teachings               FAMILY   \n",
      "10837                             Parkinson Exercices FR              MEDICAL   \n",
      "10838                      The SCP Foundation DB fr nn5n  BOOKS_AND_REFERENCE   \n",
      "10839      iHoroscope - 2018 Daily Horoscope & Astrology            LIFESTYLE   \n",
      "\n",
      "       Rating  Reviews         Size     Installs Price Content Rating  \\\n",
      "0         4.1      159  19000.00000      10,000+     0       Everyone   \n",
      "1         3.9      967  14000.00000     500,000+     0       Everyone   \n",
      "2         4.7    87510   8700.00000   5,000,000+     0       Everyone   \n",
      "3         4.5   215644  25000.00000  50,000,000+     0           Teen   \n",
      "4         4.3      967   2800.00000     100,000+     0       Everyone   \n",
      "...       ...      ...          ...          ...   ...            ...   \n",
      "10835     4.5       38  53000.00000       5,000+     0       Everyone   \n",
      "10836     5.0        4   3600.00000         100+     0       Everyone   \n",
      "10837     NaN        3   9500.00000       1,000+     0       Everyone   \n",
      "10838     4.5      114  21516.52952       1,000+     0     Mature 17+   \n",
      "10839     4.5   398307  19000.00000  10,000,000+     0       Everyone   \n",
      "\n",
      "                          Genres  \n",
      "0                   Art & Design  \n",
      "1      Art & Design;Pretend Play  \n",
      "2                   Art & Design  \n",
      "3                   Art & Design  \n",
      "4        Art & Design;Creativity  \n",
      "...                          ...  \n",
      "10835                  Education  \n",
      "10836                  Education  \n",
      "10837                    Medical  \n",
      "10838          Books & Reference  \n",
      "10839                  Lifestyle  \n",
      "\n",
      "[10840 rows x 9 columns]> \n",
      "\n",
      "Index(['App', 'Category', 'Rating', 'Reviews', 'Size', 'Installs', 'Price',\n",
      "       'Content Rating', 'Genres'],\n",
      "      dtype='object')\n"
     ]
    }
   ],
   "source": [
    "print(df.describe(), \" \\n \")\n",
    "print(df.shape, \"\\n\")\n",
    "print(df.info, \"\\n\")\n",
    "print(df.columns)"
   ]
  },
  {
   "cell_type": "markdown",
   "metadata": {},
   "source": [
    "# **DATA PRE-PROCESSING**"
   ]
  },
  {
   "cell_type": "markdown",
   "metadata": {
    "id": "e5EIYY602W_h"
   },
   "source": [
    "**1.GETTING RID OF NULL VALUES**"
   ]
  },
  {
   "cell_type": "code",
   "execution_count": 5,
   "metadata": {
    "colab": {
     "base_uri": "https://localhost:8080/"
    },
    "id": "Hgrb_TSa2NpF",
    "outputId": "3f752eb8-de49-425b-fa84-520d588b1379"
   },
   "outputs": [
    {
     "data": {
      "text/plain": [
       "App                  0\n",
       "Category             0\n",
       "Rating            1474\n",
       "Reviews              0\n",
       "Size                 0\n",
       "Installs             0\n",
       "Price                0\n",
       "Content Rating       0\n",
       "Genres               0\n",
       "dtype: int64"
      ]
     },
     "execution_count": 5,
     "metadata": {},
     "output_type": "execute_result"
    }
   ],
   "source": [
    "df.isnull().sum()"
   ]
  },
  {
   "cell_type": "code",
   "execution_count": 6,
   "metadata": {
    "colab": {
     "base_uri": "https://localhost:8080/"
    },
    "id": "tG15gTot2krp",
    "outputId": "97bbe0d9-fb68-4e59-8fcb-44640d09e4cd"
   },
   "outputs": [
    {
     "data": {
      "text/plain": [
       "App               0\n",
       "Category          0\n",
       "Rating            0\n",
       "Reviews           0\n",
       "Size              0\n",
       "Installs          0\n",
       "Price             0\n",
       "Content Rating    0\n",
       "Genres            0\n",
       "dtype: int64"
      ]
     },
     "execution_count": 6,
     "metadata": {},
     "output_type": "execute_result"
    }
   ],
   "source": [
    "# There are 1474 missing values in Rating column. So, Droping those rows because rating is our target variable.\n",
    "df.dropna(how='any', subset=['Rating'], axis=0, inplace = True)\n",
    "df.isnull().sum()"
   ]
  },
  {
   "cell_type": "markdown",
   "metadata": {
    "id": "n3M1PruF6zq6"
   },
   "source": [
    "**2.CHANGING THE DATATYPE OF REQUIRED COLUMNS AND REPLACING THE UNWANTED VALUES WITH BLANK**"
   ]
  },
  {
   "cell_type": "markdown",
   "metadata": {},
   "source": [
    "**A) Column = INSTALLS**"
   ]
  },
  {
   "cell_type": "code",
   "execution_count": 7,
   "metadata": {
    "id": "WLHGh6Yl3NV2"
   },
   "outputs": [],
   "source": [
    "install = []\n",
    "for j in df['Installs']:\n",
    "    install.append(j.replace(',','').replace('+','').strip())\n",
    "df['Installs']= install\n",
    "df['Installs']= df['Installs'].astype('int')"
   ]
  },
  {
   "cell_type": "markdown",
   "metadata": {},
   "source": [
    "**B) Column = PRICE**"
   ]
  },
  {
   "cell_type": "code",
   "execution_count": 8,
   "metadata": {
    "id": "nGaOU6Nn6dAW"
   },
   "outputs": [],
   "source": [
    "price = []\n",
    "for j in df['Price']:\n",
    "    price.append(j.replace('$','').strip())\n",
    "df['Price']= price\n",
    "df['Price']= df['Price'].astype('float')"
   ]
  },
  {
   "cell_type": "markdown",
   "metadata": {},
   "source": [
    "**C) Column = REVIEWS**"
   ]
  },
  {
   "cell_type": "code",
   "execution_count": 9,
   "metadata": {
    "id": "PwQMSfgU6gug"
   },
   "outputs": [],
   "source": [
    "df['Reviews']= df['Reviews'].astype('int')"
   ]
  },
  {
   "cell_type": "markdown",
   "metadata": {
    "id": "zVm1cqzx6oay"
   },
   "source": [
    " **3.HANDLING OUTLIERS**"
   ]
  },
  {
   "cell_type": "markdown",
   "metadata": {},
   "source": [
    "**A)Removing columns where Reviews is greater than installs.**"
   ]
  },
  {
   "cell_type": "code",
   "execution_count": 10,
   "metadata": {
    "id": "5kjVF8WX6uJT"
   },
   "outputs": [],
   "source": [
    "temp = df.loc[df['Reviews'] > df['Installs']].index\n",
    "df.drop(labels=temp, inplace=True)"
   ]
  },
  {
   "cell_type": "markdown",
   "metadata": {
    "id": "uhOZO3XT67Ez"
   },
   "source": [
    "**B)Column -> CONTENT RATING**"
   ]
  },
  {
   "cell_type": "code",
   "execution_count": 11,
   "metadata": {
    "colab": {
     "base_uri": "https://localhost:8080/"
    },
    "id": "8EC_az607CKN",
    "outputId": "9421e867-f859-416b-e657-878a184d38ee"
   },
   "outputs": [
    {
     "data": {
      "text/plain": [
       "Everyone           7414\n",
       "Teen               1083\n",
       "Mature 17+          461\n",
       "Everyone 10+        397\n",
       "Adults only 18+       3\n",
       "Unrated               1\n",
       "Name: Content Rating, dtype: int64"
      ]
     },
     "execution_count": 11,
     "metadata": {},
     "output_type": "execute_result"
    }
   ],
   "source": [
    "df['Content Rating'].value_counts()"
   ]
  },
  {
   "cell_type": "code",
   "execution_count": 12,
   "metadata": {
    "id": "SUrWAPZx7Oau"
   },
   "outputs": [],
   "source": [
    "temp1 = df[df[\"Content Rating\"] == 'Adults only 18+'].index\n",
    "df.drop(labels=temp1, inplace=True)\n",
    "\n",
    "temp2 = df[df[\"Content Rating\"] == 'Unrated'].index\n",
    "df.drop(labels=temp2, inplace=True)"
   ]
  },
  {
   "cell_type": "markdown",
   "metadata": {
    "id": "3BBtm4L78RSq"
   },
   "source": [
    "# EDA (EXPLORATORY DATA ANALYSIS)"
   ]
  },
  {
   "cell_type": "markdown",
   "metadata": {},
   "source": [
    "# 1)UNIVARIATE ANALYSIS"
   ]
  },
  {
   "cell_type": "markdown",
   "metadata": {
    "id": "Wsx6BA3VQoed"
   },
   "source": [
    "**A) BarPlot to represent the different categories of apps**"
   ]
  },
  {
   "cell_type": "code",
   "execution_count": 13,
   "metadata": {
    "colab": {
     "base_uri": "https://localhost:8080/",
     "height": 398
    },
    "id": "aM-CHSNfCc3d",
    "outputId": "4cc23381-6f47-4c90-932d-d9a889f1093d"
   },
   "outputs": [
    {
     "data": {
      "text/plain": [
       "<AxesSubplot:>"
      ]
     },
     "execution_count": 13,
     "metadata": {},
     "output_type": "execute_result"
    },
    {
     "data": {
      "image/png": "[encoded data removed]",
      "text/plain": [
       "<Figure size 432x288 with 1 Axes>"
      ]
     },
     "metadata": {
      "needs_background": "light"
     },
     "output_type": "display_data"
    }
   ],
   "source": [
    "a=df['Category'].value_counts().sort_index(ascending=True)\n",
    "a.plot.bar(color=['black', 'red', 'green', 'blue'])"
   ]
  },
  {
   "cell_type": "markdown",
   "metadata": {},
   "source": [
    "**B) Histogram to represent apps of with different ratings**"
   ]
  },
  {
   "cell_type": "code",
   "execution_count": 14,
   "metadata": {},
   "outputs": [
    {
     "data": {
      "image/png": "[encoded data removed]",
      "text/plain": [
       "<Figure size 432x288 with 1 Axes>"
      ]
     },
     "metadata": {
      "needs_background": "light"
     },
     "output_type": "display_data"
    }
   ],
   "source": [
    "plt.hist(df.Rating, bins=5, edgecolor=\"yellow\", color=\"green\")\n",
    "plt.show()"
   ]
  },
  {
   "cell_type": "markdown",
   "metadata": {
    "id": "MtOQUTOMQfdM"
   },
   "source": [
    "**C) Pie Chart to determine which content is mostly downloaded from playstore**"
   ]
  },
  {
   "cell_type": "code",
   "execution_count": 15,
   "metadata": {
    "colab": {
     "base_uri": "https://localhost:8080/",
     "height": 265
    },
    "id": "w08F3xTQDbZn",
    "outputId": "f6d974be-c432-44d7-aada-a8b884340c0d"
   },
   "outputs": [
    {
     "data": {
      "text/plain": [
       "<AxesSubplot:ylabel='Content Rating'>"
      ]
     },
     "execution_count": 15,
     "metadata": {},
     "output_type": "execute_result"
    },
    {
     "data": {
      "image/png": "[encoded data removed]",
      "text/plain": [
       "<Figure size 432x288 with 1 Axes>"
      ]
     },
     "metadata": {},
     "output_type": "display_data"
    }
   ],
   "source": [
    "d=df['Content Rating'].value_counts()\n",
    "d.plot.pie(autopct='%1.2f%%')"
   ]
  },
  {
   "cell_type": "markdown",
   "metadata": {},
   "source": [
    "# 2) BI-VARIATE ANALYSIS"
   ]
  },
  {
   "cell_type": "markdown",
   "metadata": {
    "id": "5GdTysEzQCRj"
   },
   "source": [
    "**A) Scatter Plot between paid Apps and of its categories**"
   ]
  },
  {
   "cell_type": "code",
   "execution_count": 16,
   "metadata": {
    "colab": {
     "base_uri": "https://localhost:8080/",
     "height": 441
    },
    "id": "LqkrGgafHO2m",
    "outputId": "5a06324c-ca84-4351-929c-bca7783bd358"
   },
   "outputs": [
    {
     "data": {
      "image/png": "[encoded data removed]",
      "text/plain": [
       "<Figure size 432x432 with 3 Axes>"
      ]
     },
     "metadata": {
      "needs_background": "light"
     },
     "output_type": "display_data"
    }
   ],
   "source": [
    "dfx = df.loc[df.Price != 0]\n",
    "sns.jointplot(x='Price', y='Category', data=dfx, kind='scatter')\n",
    "plt.show()"
   ]
  },
  {
   "cell_type": "markdown",
   "metadata": {
    "id": "-YQFYvCeP8fk"
   },
   "source": [
    "**B) Joint Plot between Price and Rating**"
   ]
  },
  {
   "cell_type": "code",
   "execution_count": 17,
   "metadata": {
    "colab": {
     "base_uri": "https://localhost:8080/",
     "height": 441
    },
    "id": "3duYoTYvNQTR",
    "outputId": "98933a0b-bbb7-4153-ffe3-2cbbbe4191d2"
   },
   "outputs": [
    {
     "data": {
      "image/png": "[encoded data removed]",
      "text/plain": [
       "<Figure size 432x432 with 3 Axes>"
      ]
     },
     "metadata": {
      "needs_background": "light"
     },
     "output_type": "display_data"
    }
   ],
   "source": [
    "sns.jointplot(x='Price', y='Rating', data=dfx, kind='scatter')\n",
    "plt.show()"
   ]
  },
  {
   "cell_type": "markdown",
   "metadata": {},
   "source": [
    "**C) Rating vs Content Rating**"
   ]
  },
  {
   "cell_type": "code",
   "execution_count": 18,
   "metadata": {},
   "outputs": [
    {
     "data": {
      "image/png": "[encoded data removed]",
      "text/plain": [
       "<Figure size 432x288 with 1 Axes>"
      ]
     },
     "metadata": {
      "needs_background": "light"
     },
     "output_type": "display_data"
    }
   ],
   "source": [
    "df.groupby(['Content Rating'])['Rating'].count().plot.bar(color=\"darkgreen\")\n",
    "plt.show()"
   ]
  },
  {
   "cell_type": "markdown",
   "metadata": {},
   "source": [
    "# 3) MULTI-VARIATE ANALYSIS"
   ]
  },
  {
   "cell_type": "markdown",
   "metadata": {},
   "source": [
    "**A) Correlation between all the numeric datatype**"
   ]
  },
  {
   "cell_type": "code",
   "execution_count": 19,
   "metadata": {},
   "outputs": [
    {
     "data": {
      "text/html": [
       "<div>\n",
       "<style scoped>\n",
       "    .dataframe tbody tr th:only-of-type {\n",
       "        vertical-align: middle;\n",
       "    }\n",
       "\n",
       "    .dataframe tbody tr th {\n",
       "        vertical-align: top;\n",
       "    }\n",
       "\n",
       "    .dataframe thead th {\n",
       "        text-align: right;\n",
       "    }\n",
       "</style>\n",
       "<table border=\"1\" class=\"dataframe\">\n",
       "  <thead>\n",
       "    <tr style=\"text-align: right;\">\n",
       "      <th></th>\n",
       "      <th>Rating</th>\n",
       "      <th>Reviews</th>\n",
       "      <th>Size</th>\n",
       "      <th>Installs</th>\n",
       "      <th>Price</th>\n",
       "    </tr>\n",
       "  </thead>\n",
       "  <tbody>\n",
       "    <tr>\n",
       "      <th>Rating</th>\n",
       "      <td>1.000000</td>\n",
       "      <td>0.068399</td>\n",
       "      <td>0.078886</td>\n",
       "      <td>0.051636</td>\n",
       "      <td>-0.021899</td>\n",
       "    </tr>\n",
       "    <tr>\n",
       "      <th>Reviews</th>\n",
       "      <td>0.068399</td>\n",
       "      <td>1.000000</td>\n",
       "      <td>0.125459</td>\n",
       "      <td>0.641600</td>\n",
       "      <td>-0.009826</td>\n",
       "    </tr>\n",
       "    <tr>\n",
       "      <th>Size</th>\n",
       "      <td>0.078886</td>\n",
       "      <td>0.125459</td>\n",
       "      <td>1.000000</td>\n",
       "      <td>0.075375</td>\n",
       "      <td>-0.025648</td>\n",
       "    </tr>\n",
       "    <tr>\n",
       "      <th>Installs</th>\n",
       "      <td>0.051636</td>\n",
       "      <td>0.641600</td>\n",
       "      <td>0.075375</td>\n",
       "      <td>1.000000</td>\n",
       "      <td>-0.011898</td>\n",
       "    </tr>\n",
       "    <tr>\n",
       "      <th>Price</th>\n",
       "      <td>-0.021899</td>\n",
       "      <td>-0.009826</td>\n",
       "      <td>-0.025648</td>\n",
       "      <td>-0.011898</td>\n",
       "      <td>1.000000</td>\n",
       "    </tr>\n",
       "  </tbody>\n",
       "</table>\n",
       "</div>"
      ],
      "text/plain": [
       "            Rating   Reviews      Size  Installs     Price\n",
       "Rating    1.000000  0.068399  0.078886  0.051636 -0.021899\n",
       "Reviews   0.068399  1.000000  0.125459  0.641600 -0.009826\n",
       "Size      0.078886  0.125459  1.000000  0.075375 -0.025648\n",
       "Installs  0.051636  0.641600  0.075375  1.000000 -0.011898\n",
       "Price    -0.021899 -0.009826 -0.025648 -0.011898  1.000000"
      ]
     },
     "execution_count": 19,
     "metadata": {},
     "output_type": "execute_result"
    }
   ],
   "source": [
    "df.corr()"
   ]
  },
  {
   "cell_type": "markdown",
   "metadata": {},
   "source": [
    "**B) Covariance between all the numeric datatype**"
   ]
  },
  {
   "cell_type": "code",
   "execution_count": 20,
   "metadata": {},
   "outputs": [
    {
     "data": {
      "text/html": [
       "<div>\n",
       "<style scoped>\n",
       "    .dataframe tbody tr th:only-of-type {\n",
       "        vertical-align: middle;\n",
       "    }\n",
       "\n",
       "    .dataframe tbody tr th {\n",
       "        vertical-align: top;\n",
       "    }\n",
       "\n",
       "    .dataframe thead th {\n",
       "        text-align: right;\n",
       "    }\n",
       "</style>\n",
       "<table border=\"1\" class=\"dataframe\">\n",
       "  <thead>\n",
       "    <tr style=\"text-align: right;\">\n",
       "      <th></th>\n",
       "      <th>Rating</th>\n",
       "      <th>Reviews</th>\n",
       "      <th>Size</th>\n",
       "      <th>Installs</th>\n",
       "      <th>Price</th>\n",
       "    </tr>\n",
       "  </thead>\n",
       "  <tbody>\n",
       "    <tr>\n",
       "      <th>Rating</th>\n",
       "      <td>2.652584e-01</td>\n",
       "      <td>1.108202e+05</td>\n",
       "      <td>8.659389e+02</td>\n",
       "      <td>2.427763e+06</td>\n",
       "      <td>-1.784912e-01</td>\n",
       "    </tr>\n",
       "    <tr>\n",
       "      <th>Reviews</th>\n",
       "      <td>1.108202e+05</td>\n",
       "      <td>9.896324e+12</td>\n",
       "      <td>8.411898e+09</td>\n",
       "      <td>1.842567e+14</td>\n",
       "      <td>-4.892001e+05</td>\n",
       "    </tr>\n",
       "    <tr>\n",
       "      <th>Size</th>\n",
       "      <td>8.659389e+02</td>\n",
       "      <td>8.411898e+09</td>\n",
       "      <td>4.542664e+08</td>\n",
       "      <td>1.466572e+11</td>\n",
       "      <td>-8.651026e+03</td>\n",
       "    </tr>\n",
       "    <tr>\n",
       "      <th>Installs</th>\n",
       "      <td>2.427763e+06</td>\n",
       "      <td>1.842567e+14</td>\n",
       "      <td>1.466572e+11</td>\n",
       "      <td>8.333832e+15</td>\n",
       "      <td>-1.718920e+07</td>\n",
       "    </tr>\n",
       "    <tr>\n",
       "      <th>Price</th>\n",
       "      <td>-1.784912e-01</td>\n",
       "      <td>-4.892001e+05</td>\n",
       "      <td>-8.651026e+03</td>\n",
       "      <td>-1.718920e+07</td>\n",
       "      <td>2.504575e+02</td>\n",
       "    </tr>\n",
       "  </tbody>\n",
       "</table>\n",
       "</div>"
      ],
      "text/plain": [
       "                Rating       Reviews          Size      Installs         Price\n",
       "Rating    2.652584e-01  1.108202e+05  8.659389e+02  2.427763e+06 -1.784912e-01\n",
       "Reviews   1.108202e+05  9.896324e+12  8.411898e+09  1.842567e+14 -4.892001e+05\n",
       "Size      8.659389e+02  8.411898e+09  4.542664e+08  1.466572e+11 -8.651026e+03\n",
       "Installs  2.427763e+06  1.842567e+14  1.466572e+11  8.333832e+15 -1.718920e+07\n",
       "Price    -1.784912e-01 -4.892001e+05 -8.651026e+03 -1.718920e+07  2.504575e+02"
      ]
     },
     "execution_count": 20,
     "metadata": {},
     "output_type": "execute_result"
    }
   ],
   "source": [
    "df.cov()"
   ]
  },
  {
   "cell_type": "markdown",
   "metadata": {},
   "source": [
    "# QUERIES"
   ]
  },
  {
   "cell_type": "markdown",
   "metadata": {},
   "source": [
    "# 1) What category is preferred the most?"
   ]
  },
  {
   "cell_type": "code",
   "execution_count": 21,
   "metadata": {},
   "outputs": [
    {
     "data": {
      "text/plain": [
       "FAMILY    1747\n",
       "Name: Category, dtype: int64"
      ]
     },
     "execution_count": 21,
     "metadata": {},
     "output_type": "execute_result"
    }
   ],
   "source": [
    "a = df['Category'].value_counts()\n",
    "most_preffered_category = a.iloc[:1]\n",
    "most_preffered_category"
   ]
  },
  {
   "cell_type": "markdown",
   "metadata": {},
   "source": [
    "**Conclusion:- As we can see that \"Family\" category tops the list.**"
   ]
  },
  {
   "cell_type": "markdown",
   "metadata": {},
   "source": [
    "# 2) What are the top 5 paid apps in terms of rating and installs?"
   ]
  },
  {
   "cell_type": "code",
   "execution_count": 22,
   "metadata": {
    "colab": {
     "base_uri": "https://localhost:8080/"
    },
    "id": "IIeCdaQf8R1N",
    "outputId": "810970f1-deb4-4f46-e00c-e09bbbbee9dc"
   },
   "outputs": [
    {
     "data": {
      "text/html": [
       "<div>\n",
       "<style scoped>\n",
       "    .dataframe tbody tr th:only-of-type {\n",
       "        vertical-align: middle;\n",
       "    }\n",
       "\n",
       "    .dataframe tbody tr th {\n",
       "        vertical-align: top;\n",
       "    }\n",
       "\n",
       "    .dataframe thead th {\n",
       "        text-align: right;\n",
       "    }\n",
       "</style>\n",
       "<table border=\"1\" class=\"dataframe\">\n",
       "  <thead>\n",
       "    <tr style=\"text-align: right;\">\n",
       "      <th></th>\n",
       "      <th>App</th>\n",
       "      <th>Genres</th>\n",
       "    </tr>\n",
       "  </thead>\n",
       "  <tbody>\n",
       "    <tr>\n",
       "      <th>2262</th>\n",
       "      <td>Super Hearing Secret Voices Recorder PRO</td>\n",
       "      <td>Medical</td>\n",
       "    </tr>\n",
       "    <tr>\n",
       "      <th>2271</th>\n",
       "      <td>FHR 5-Tier 2.0</td>\n",
       "      <td>Medical</td>\n",
       "    </tr>\n",
       "    <tr>\n",
       "      <th>3957</th>\n",
       "      <td>ADS-B Driver</td>\n",
       "      <td>Tools</td>\n",
       "    </tr>\n",
       "    <tr>\n",
       "      <th>4452</th>\n",
       "      <td>P-Home for KLWP</td>\n",
       "      <td>Personalization</td>\n",
       "    </tr>\n",
       "    <tr>\n",
       "      <th>4477</th>\n",
       "      <td>Android P Style Icon Pack</td>\n",
       "      <td>Personalization</td>\n",
       "    </tr>\n",
       "  </tbody>\n",
       "</table>\n",
       "</div>"
      ],
      "text/plain": [
       "                                           App           Genres\n",
       "2262  Super Hearing Secret Voices Recorder PRO          Medical\n",
       "2271                            FHR 5-Tier 2.0          Medical\n",
       "3957                              ADS-B Driver            Tools\n",
       "4452                           P-Home for KLWP  Personalization\n",
       "4477                 Android P Style Icon Pack  Personalization"
      ]
     },
     "execution_count": 22,
     "metadata": {},
     "output_type": "execute_result"
    }
   ],
   "source": [
    "df2 = df[df.Price != 0]\n",
    "df2_1 = df2.nlargest(5, ['Rating'])\n",
    "df2_1[['App', 'Genres']]"
   ]
  },
  {
   "cell_type": "markdown",
   "metadata": {},
   "source": [
    "**Conclusion:- The top 5 paid apps belongs to Medical, Tools and Personalization. So, We can say that people are more concious toward their health and if we talk about Personalization we say that people want to customize the thing accordingly**"
   ]
  },
  {
   "cell_type": "code",
   "execution_count": 23,
   "metadata": {
    "colab": {
     "base_uri": "https://localhost:8080/"
    },
    "id": "1csZMle_8T-k",
    "outputId": "7a92a6ad-b1be-4b37-de07-3ad486ffa5c3"
   },
   "outputs": [
    {
     "data": {
      "text/html": [
       "<div>\n",
       "<style scoped>\n",
       "    .dataframe tbody tr th:only-of-type {\n",
       "        vertical-align: middle;\n",
       "    }\n",
       "\n",
       "    .dataframe tbody tr th {\n",
       "        vertical-align: top;\n",
       "    }\n",
       "\n",
       "    .dataframe thead th {\n",
       "        text-align: right;\n",
       "    }\n",
       "</style>\n",
       "<table border=\"1\" class=\"dataframe\">\n",
       "  <thead>\n",
       "    <tr style=\"text-align: right;\">\n",
       "      <th></th>\n",
       "      <th>App</th>\n",
       "      <th>Genres</th>\n",
       "    </tr>\n",
       "  </thead>\n",
       "  <tbody>\n",
       "    <tr>\n",
       "      <th>2241</th>\n",
       "      <td>Minecraft</td>\n",
       "      <td>Arcade;Action &amp; Adventure</td>\n",
       "    </tr>\n",
       "    <tr>\n",
       "      <th>4034</th>\n",
       "      <td>Hitman Sniper</td>\n",
       "      <td>Action</td>\n",
       "    </tr>\n",
       "    <tr>\n",
       "      <th>4347</th>\n",
       "      <td>Minecraft</td>\n",
       "      <td>Arcade;Action &amp; Adventure</td>\n",
       "    </tr>\n",
       "    <tr>\n",
       "      <th>2242</th>\n",
       "      <td>Card Wars - Adventure Time</td>\n",
       "      <td>Card;Action &amp; Adventure</td>\n",
       "    </tr>\n",
       "    <tr>\n",
       "      <th>2883</th>\n",
       "      <td>Facetune - For Free</td>\n",
       "      <td>Photography</td>\n",
       "    </tr>\n",
       "  </tbody>\n",
       "</table>\n",
       "</div>"
      ],
      "text/plain": [
       "                             App                     Genres\n",
       "2241                   Minecraft  Arcade;Action & Adventure\n",
       "4034               Hitman Sniper                     Action\n",
       "4347                   Minecraft  Arcade;Action & Adventure\n",
       "2242  Card Wars - Adventure Time    Card;Action & Adventure\n",
       "2883         Facetune - For Free                Photography"
      ]
     },
     "execution_count": 23,
     "metadata": {},
     "output_type": "execute_result"
    }
   ],
   "source": [
    "df2_2 = df2.nlargest(5, ['Installs'])\n",
    "df2_2[['App','Genres']] "
   ]
  },
  {
   "cell_type": "markdown",
   "metadata": {},
   "source": [
    "**Conclusion:- Mostly top paid apps are Gaming apps with genre Arcade, Action & Adventure** "
   ]
  },
  {
   "cell_type": "markdown",
   "metadata": {
    "id": "XBD7QurvB85L"
   },
   "source": [
    "# 3) Which 5 categories have engaged teens more?\n"
   ]
  },
  {
   "cell_type": "code",
   "execution_count": 24,
   "metadata": {
    "colab": {
     "base_uri": "https://localhost:8080/"
    },
    "id": "L4d4VLQdCBT8",
    "outputId": "6ebf7d2c-3851-4b3e-c093-641f488def69"
   },
   "outputs": [
    {
     "data": {
      "text/plain": [
       "GAME             324\n",
       "FAMILY           242\n",
       "SOCIAL           105\n",
       "ENTERTAINMENT     96\n",
       "SHOPPING          48\n",
       "Name: Category, dtype: int64"
      ]
     },
     "execution_count": 24,
     "metadata": {},
     "output_type": "execute_result"
    }
   ],
   "source": [
    "df3 = df[df['Content Rating'] == \"Teen\"]\n",
    "a = df3['Category'].value_counts()\n",
    "most_teen = a.iloc[:5]\n",
    "most_teen"
   ]
  },
  {
   "cell_type": "markdown",
   "metadata": {},
   "source": [
    "**Conclusion:- As obvious, Teens are more likely to enjoy gaming apps.**"
   ]
  },
  {
   "cell_type": "markdown",
   "metadata": {
    "id": "lpr-AmOFI2AF"
   },
   "source": [
    "# 4) What is the Category of Apps having size more than 90MB."
   ]
  },
  {
   "cell_type": "code",
   "execution_count": 25,
   "metadata": {
    "colab": {
     "base_uri": "https://localhost:8080/",
     "height": 282
    },
    "id": "jiFp8sdWI1Xh",
    "outputId": "eb7a25e5-a500-43c1-b0ed-429597b6580f"
   },
   "outputs": [
    {
     "data": {
      "text/plain": [
       "GAME                  77\n",
       "FAMILY                58\n",
       "HEALTH_AND_FITNESS     6\n",
       "SPORTS                 4\n",
       "FINANCE                3\n",
       "MEDICAL                3\n",
       "LIBRARIES_AND_DEMO     2\n",
       "LIFESTYLE              2\n",
       "PARENTING              2\n",
       "EDUCATION              1\n",
       "SHOPPING               1\n",
       "TOOLS                  1\n",
       "SOCIAL                 1\n",
       "PHOTOGRAPHY            1\n",
       "AUTO_AND_VEHICLES      1\n",
       "Name: Category, dtype: int64"
      ]
     },
     "execution_count": 25,
     "metadata": {},
     "output_type": "execute_result"
    }
   ],
   "source": [
    "dfs = df[df[\"Size\"] > 92160]\n",
    "dfs['Category'].value_counts()"
   ]
  },
  {
   "cell_type": "markdown",
   "metadata": {},
   "source": [
    "**Conclusion:- Gaming apps requires more storage as compared to other apps and it is obvious because they tend to have more HD graphics.**"
   ]
  },
  {
   "cell_type": "markdown",
   "metadata": {
    "id": "TwdIf_1IPhtB"
   },
   "source": [
    "# 5) Genres of expensive Apps (Apps of price greater than 200)."
   ]
  },
  {
   "cell_type": "code",
   "execution_count": 26,
   "metadata": {
    "colab": {
     "base_uri": "https://localhost:8080/",
     "height": 265
    },
    "id": "y5dzNZ7hKb_R",
    "outputId": "23e63a56-616d-45eb-d425-80db9f9812a0"
   },
   "outputs": [
    {
     "data": {
      "text/plain": [
       "Finance          6\n",
       "Lifestyle        5\n",
       "Entertainment    4\n",
       "Name: Genres, dtype: int64"
      ]
     },
     "execution_count": 26,
     "metadata": {},
     "output_type": "execute_result"
    }
   ],
   "source": [
    "dfp = df.loc[df['Price'] > 200]\n",
    "dfp['Genres'].value_counts()"
   ]
  },
  {
   "cell_type": "markdown",
   "metadata": {},
   "source": [
    "**Conclusion:-In this modern world, They love to maintain their standard of living that'swhy they spend more money on these type of apps.**"
   ]
  }
 ],
 "metadata": {
  "colab": {
   "collapsed_sections": [],
   "provenance": []
  },
  "kernelspec": {
   "display_name": "Python 3 (ipykernel)",
   "language": "python",
   "name": "python3"
  },
  "language_info": {
   "codemirror_mode": {
    "name": "ipython",
    "version": 3
   },
   "file_extension": ".py",
   "mimetype": "text/x-python",
   "name": "python",
   "nbconvert_exporter": "python",
   "pygments_lexer": "ipython3",
   "version": "3.9.12"
  }
 },
 "nbformat": 4,
 "nbformat_minor": 1
}
